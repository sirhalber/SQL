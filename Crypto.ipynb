{
 "cells": [
  {
   "cell_type": "code",
   "execution_count": null,
   "id": "7faa2964-5372-40db-9f9f-38dde922445d",
   "metadata": {},
   "outputs": [],
   "source": [
    "#Crypto\n",
    "SELECT *\n",
    "FROM transactions; \n",
    "SELECT SUM(money_in)\n",
    "FROM transactions;\n",
    "SELECT SUM(money_out)\n",
    "FROM transactions;\n",
    "SELECT COUNT(money_in)\n",
    "FROM transactions;\n",
    "SELECT COUNT(money_in)\n",
    "FROM transactions\n",
    "WHERE currency = 'BIT';\n",
    "SELECT MAX(money_in), MAX(money_out)\n",
    "FROM transactions;\n",
    "SELECT AVG(money_in)\n",
    "FROM transactions\n",
    "WHERE currency = 'ETH';\n",
    "SELECT date, \n",
    "ROUND(AVG(money_in),2) AS 'in', \n",
    "ROUND(AVG(money_out),2) AS 'out'\n",
    "FROM transactions\n",
    "GROUP BY date;"
   ]
  }
 ],
 "metadata": {
  "kernelspec": {
   "display_name": "Python 3 (ipykernel)",
   "language": "python",
   "name": "python3"
  },
  "language_info": {
   "codemirror_mode": {
    "name": "ipython",
    "version": 3
   },
   "file_extension": ".py",
   "mimetype": "text/x-python",
   "name": "python",
   "nbconvert_exporter": "python",
   "pygments_lexer": "ipython3",
   "version": "3.9.12"
  }
 },
 "nbformat": 4,
 "nbformat_minor": 5
}
