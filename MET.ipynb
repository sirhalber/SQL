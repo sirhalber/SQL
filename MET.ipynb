{
 "cells": [
  {
   "cell_type": "code",
   "execution_count": null,
   "id": "9ac4903d-61a3-47e4-8d7c-adb0498d2680",
   "metadata": {},
   "outputs": [],
   "source": [
    "#MET\n",
    "SELECT *\n",
    "FROM met\n",
    "LIMIT 10;\n",
    "SELECT COUNT(*)\n",
    "FROM met;\n",
    "SELECT COUNT(*)\n",
    "FROM met\n",
    "WHERE category LIKE '%celery%';\n",
    "SELECT date, title, medium\n",
    "FROM met\n",
    "WHERE date LIKE '%1600%';\n",
    "SELECT country, COUNT(*)\n",
    "FROM met\n",
    "WHERE country IS NOT NULL\n",
    "GROUP BY 1\n",
    "ORDER BY 2 DESC\n",
    "LIMIT 10;\n",
    "SELECT category, COUNT(*)\n",
    "FROM met\n",
    "GROUP BY 1\n",
    "HAVING COUNT(*) > 100;\n",
    "SELECT CASE\n",
    "   WHEN medium LIKE '%gold%'   THEN 'Gold'\n",
    "   WHEN medium LIKE '%silver%' THEN 'Silver'\n",
    "   ELSE NULL\n",
    "  END AS 'Bling',\n",
    "  COUNT(*)\n",
    "FROM met\n",
    "WHERE Bling IS NOT NULL\n",
    "GROUP BY 1\n",
    "ORDER BY 2 DESC;"
   ]
  }
 ],
 "metadata": {
  "kernelspec": {
   "display_name": "Python 3 (ipykernel)",
   "language": "python",
   "name": "python3"
  },
  "language_info": {
   "codemirror_mode": {
    "name": "ipython",
    "version": 3
   },
   "file_extension": ".py",
   "mimetype": "text/x-python",
   "name": "python",
   "nbconvert_exporter": "python",
   "pygments_lexer": "ipython3",
   "version": "3.9.12"
  }
 },
 "nbformat": 4,
 "nbformat_minor": 5
}
