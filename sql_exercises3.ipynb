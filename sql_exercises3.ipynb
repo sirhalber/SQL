{
 "cells": [
  {
   "cell_type": "code",
   "execution_count": null,
   "id": "194399a3-660e-43cc-a2fc-83722101a9de",
   "metadata": {},
   "outputs": [],
   "source": [
    "#Trends in startups\n",
    "\n",
    "SELECT *\n",
    "FROM startups;\n",
    "SELECT COUNT(*)\n",
    "FROM startups;\n",
    "SELECT SUM(valuation)\n",
    "FROM startups;\n",
    "SELECT MAX(raised)\n",
    "FROM startups;\n",
    "SELECT MAX(raised)\n",
    "FROM startups\n",
    "WHERE stage = 'Seed';\n",
    "SELECT MIN(founded)\n",
    "FROM startups;\n",
    "SELECT AVG(valuation)\n",
    "FROM startups;\n",
    "SELECT category, AVG(valuation)\n",
    "FROM startups\n",
    "GROUP BY category;\n",
    "SELECT category, ROUND(AVG(valuation), 2)\n",
    "FROM startups\n",
    "GROUP BY category;\n",
    "SELECT category, ROUND(AVG(valuation), 2)\n",
    "FROM startups\n",
    "GROUP BY 1\n",
    "ORDER BY 2 DESC;\n",
    "SELECT category, COUNT(*)\n",
    "FROM startups\n",
    "GROUP BY category;\n",
    "SELECT category, COUNT(*)\n",
    "FROM startups\n",
    "GROUP BY category\n",
    "HAVING COUNT(*) > 3\n",
    "ORDER BY 2 DESC;\n",
    "SELECT location, AVG(employees)\n",
    "FROM startups\n",
    "GROUP BY location;\n",
    "SELECT location, AVG(employees)\n",
    "FROM startups\n",
    "GROUP BY location\n",
    "HAVING AVG(employees) > 500;\n",
    "\n"
   ]
  }
 ],
 "metadata": {
  "kernelspec": {
   "display_name": "Python 3 (ipykernel)",
   "language": "python",
   "name": "python3"
  },
  "language_info": {
   "codemirror_mode": {
    "name": "ipython",
    "version": 3
   },
   "file_extension": ".py",
   "mimetype": "text/x-python",
   "name": "python",
   "nbconvert_exporter": "python",
   "pygments_lexer": "ipython3",
   "version": "3.9.12"
  }
 },
 "nbformat": 4,
 "nbformat_minor": 5
}
