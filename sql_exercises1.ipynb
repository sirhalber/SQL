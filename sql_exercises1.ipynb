{
 "cells": [
  {
   "cell_type": "code",
   "execution_count": null,
   "id": "5008af74-6b66-4357-acf9-9cf7b51657e8",
   "metadata": {},
   "outputs": [],
   "source": [
    "# Create a table and various modifications\n",
    "CREATE TABLE friends (\n",
    "  id INTEGER, \n",
    "  name TEXT,\n",
    "  birthday DATE\n",
    ");\n",
    "INSERT INTO friends (id, name, birthday)\n",
    "VALUES (1, 'Ororo Munroe', '1940-05-30');\n",
    "INSERT INTO friends (id, name, birthday)\n",
    "VALUES (2, 'Alberto Figueroba', '1989-08-31');\n",
    "INSERT INTO friends (id, name, birthday)\n",
    "VALUES (3, 'Alejandro Figueroba', '1990-08-21');\n",
    "UPDATE friends\n",
    "SET name = 'Storm'\n",
    "WHERE id = 1; \n",
    "ALTER TABLE friends\n",
    "ADD COLUMN email TEXT;\n",
    "ALTER TABLE friends\n",
    "ADD COLUMN phone INTEGER;\n",
    "ALTER TABLE friends\n",
    "ADD COLUMN instagram TEXT;\n",
    "DELETE FROM friends\n",
    "where id = 1;\n",
    "SELECT *\n",
    "FROM friends;"
   ]
  }
 ],
 "metadata": {
  "kernelspec": {
   "display_name": "Python 3 (ipykernel)",
   "language": "python",
   "name": "python3"
  },
  "language_info": {
   "codemirror_mode": {
    "name": "ipython",
    "version": 3
   },
   "file_extension": ".py",
   "mimetype": "text/x-python",
   "name": "python",
   "nbconvert_exporter": "python",
   "pygments_lexer": "ipython3",
   "version": "3.9.12"
  }
 },
 "nbformat": 4,
 "nbformat_minor": 5
}
