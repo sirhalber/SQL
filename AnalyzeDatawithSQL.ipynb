{
 "cells": [
  {
   "cell_type": "code",
   "execution_count": null,
   "id": "d1f028fa-e9e0-4af6-9779-e19d16fb56b4",
   "metadata": {},
   "outputs": [],
   "source": [
    "#Select data from table\n",
    "SELECT *\n",
    "FROM browse\n",
    "LIMIT 10;"
   ]
  },
  {
   "cell_type": "code",
   "execution_count": null,
   "id": "1da3c8db-b5d6-4221-8d07-86a52f1cb877",
   "metadata": {},
   "outputs": [],
   "source": [
    "#Combining data\n",
    "SELECT ROUND(\n",
    "100.0 * COUNT(DISTINCT c.user_id) /\n",
    "COUNT(DISTINCT b.user_id)\n",
    ") AS browse_to_checkout_percent,\n",
    "ROUND(\n",
    "100.0 * COUNT(DISTINCT p.user_id) /\n",
    "COUNT(DISTINCT c.user_id)\n",
    ") AS checkout_to_purchase_percent\n",
    "FROM browse b\n",
    "LEFT JOIN checkout c\n",
    "\tON b.user_id = c.user_id\n",
    "LEFT JOIN purchase p\n",
    "\tON c.user_id = p.user_id;"
   ]
  },
  {
   "cell_type": "code",
   "execution_count": null,
   "id": "9ccf6cc6-f8e2-482f-93ff-795bc35db848",
   "metadata": {},
   "outputs": [],
   "source": [
    "# User churn\n",
    "SELECT COUNT(DISTINCT user_id) AS enrollments,\n",
    "\tCOUNT(CASE\n",
    "       \tWHEN strftime(\"%m\", cancel_date) = '03'\n",
    "        THEN user_id\n",
    "  END) AS march_cancellations,\n",
    " \tROUND(100.0 * COUNT(CASE\n",
    "       \tWHEN strftime(\"%m\", cancel_date) = '03'\n",
    "        THEN user_id\n",
    "  END) / COUNT(DISTINCT user_id)) AS churn_rate\n",
    "FROM pro_users\n",
    "WHERE signup_date < '2017-04-01'\n",
    "\tAND (\n",
    "    (cancel_date IS NULL) OR\n",
    "    (cancel_date > '2017-03-01')\n",
    "  );"
   ]
  },
  {
   "cell_type": "code",
   "execution_count": null,
   "id": "599af1a9-f9c0-49aa-b7bc-026e6c7cf5b8",
   "metadata": {},
   "outputs": [],
   "source": [
    "#Web traffic attribution\n",
    "SELECT utm_source,\n",
    " \tCOUNT(DISTINCT user_id) AS num_users\n",
    "FROM page_visits\n",
    "GROUP BY 1\n",
    "ORDER BY 2 DESC;"
   ]
  },
  {
   "cell_type": "code",
   "execution_count": null,
   "id": "5badf2db-5bd0-4b25-b5bb-6f9ea24e2ae3",
   "metadata": {},
   "outputs": [],
   "source": [
    "#Challenge 1\n",
    "SELECT year, number\n",
    "FROM babies\n",
    "WHERE name = 'Lillian'"
   ]
  },
  {
   "cell_type": "code",
   "execution_count": null,
   "id": "526a95c7-4ac5-454f-829d-ae8d027ef808",
   "metadata": {},
   "outputs": [],
   "source": [
    "#Challenge 2\n",
    "SELECT DISTINCT name\n",
    "FROM babies\n",
    "WHERE name LIKE 'S%'\n",
    "LIMIT 20"
   ]
  },
  {
   "cell_type": "code",
   "execution_count": null,
   "id": "2e1731de-9e59-4be1-aa30-4642ce21a8c1",
   "metadata": {},
   "outputs": [],
   "source": [
    "#Challenge 3\n",
    "SELECT name, gender, number\n",
    "FROM babies\n",
    "WHERE year = '1880'\n",
    "ORDER BY 3 DESC\n",
    "LIMIT 10"
   ]
  },
  {
   "cell_type": "code",
   "execution_count": null,
   "id": "64bbf39f-c5a5-4028-9f50-34ccf4c935be",
   "metadata": {},
   "outputs": [],
   "source": [
    "#Challenge 4\n",
    "SELECT *\n",
    "FROM nomnom\n",
    "WHERE cuisine = 'Japanese' AND price = '$$'"
   ]
  },
  {
   "cell_type": "code",
   "execution_count": null,
   "id": "336de5e8-4ce3-43e1-9b69-9638611e1863",
   "metadata": {},
   "outputs": [],
   "source": [
    "#Challenge 5\n",
    "SELECT *\n",
    "FROM nomnom\n",
    "WHERE name LIKE '%noodle%'"
   ]
  },
  {
   "cell_type": "code",
   "execution_count": null,
   "id": "878b335d-8e91-41e3-800d-3ee5b7f28282",
   "metadata": {},
   "outputs": [],
   "source": [
    "#Challenge 6\n",
    "SELECT *\n",
    "FROM nomnom\n",
    "WHERE health IS NULL;"
   ]
  },
  {
   "cell_type": "code",
   "execution_count": null,
   "id": "2ec2d7b4-873e-4045-a3be-39d4287b4f3d",
   "metadata": {},
   "outputs": [],
   "source": [
    "#Challenge 7\n",
    "SELECT title, publisher\n",
    "FROM news\n",
    "ORDER BY title  "
   ]
  },
  {
   "cell_type": "code",
   "execution_count": null,
   "id": "b33dd560-07b4-4bf0-b138-e3c72017f70e",
   "metadata": {},
   "outputs": [],
   "source": [
    "#Challenge 8\n",
    "SELECT *\n",
    "FROM news\n",
    "WHERE title LIKE '%bitcoin%'"
   ]
  },
  {
   "cell_type": "code",
   "execution_count": null,
   "id": "14fbb39e-8db5-422f-b2ce-9ddbf0593c64",
   "metadata": {},
   "outputs": [],
   "source": [
    "#Challenge 9\n",
    "SELECT *\n",
    "FROM news\n",
    "WHERE category = 'b'\n",
    "ORDER BY timestamp DESC\n",
    "LIMIT 20"
   ]
  },
  {
   "cell_type": "code",
   "execution_count": null,
   "id": "3834a532-ad2c-4fdd-ab9e-565ca187bb1b",
   "metadata": {},
   "outputs": [],
   "source": [
    "#Fraud Detection\n",
    "-- 1\n",
    "-- What are the column names?\n",
    "SELECT *\n",
    "FROM transaction_data\n",
    "LIMIT 10;\n",
    "-- 2\n",
    "-- Find the full_names and emails\n",
    "-- of the transactions listing 20252 as the zip code.\n",
    "SELECT full_name, email, zip\n",
    "FROM transaction_data\n",
    "WHERE zip = 20252;\n",
    "-- 3\n",
    "-- Use a query to find the names \n",
    "-- and emails associated with these transactions.\n",
    "SELECT full_name, email\n",
    "FROM transaction_data\n",
    "WHERE full_name = 'Art Vandelay' OR full_name LIKE '% der %';\n",
    "-- 4\n",
    "-- Find the ip_addresses and emails listed with these transactions.\n",
    "SELECT ip_address, email\n",
    "FROM transaction_data\n",
    "WHERE ip_address LIKE '10.%';\n",
    "-- 5\n",
    "-- Find the emails in transaction_data with\n",
    "-- ‘temp_email.com’ as a domain.\n",
    "SELECT email\n",
    "FROM transaction_data\n",
    "WHERE email LIKE '%temp_email.com';\n",
    "-- 6\n",
    "-- The finance department is looking for a specific transaction. \n",
    "-- They know that the transaction occurred from an ip address starting \n",
    "-- with ‘120.’ and their full name starts with ‘John’.\n",
    "SELECT *\n",
    "FROM transaction_data\n",
    "WHERE full_name LIKE 'John%'\n",
    "  AND ip_address LIKE '120.%';"
   ]
  },
  {
   "cell_type": "code",
   "execution_count": null,
   "id": "e12be45f-8165-4f8e-be04-b2caabb715b9",
   "metadata": {},
   "outputs": [],
   "source": [
    "#Customer Segmentation\n",
    "-- 1\n",
    "-- What are the column names?\n",
    "SELECT *\n",
    "FROM users\n",
    "LIMIT 20;\n",
    "-- 2\n",
    "-- Find the email addresses and birthdays of users whose \n",
    "-- birthday is between 1980-01-01 and 1989-12-31.\n",
    "SELECT email, birthday\n",
    "FROM users\n",
    "WHERE birthday BETWEEN '1980-01-01' AND '1989-12-31';\n",
    "-- 3\n",
    "-- Find the emails and creation date of users \n",
    "-- whose created_at date matches this condition.\n",
    "SELECT email, created_at\n",
    "FROM users\n",
    "WHERE created_at < '2017-05-01';\n",
    "-- 4\n",
    "-- Find the emails of the users who received the ‘bears’ test.\n",
    "SELECT email\n",
    "FROM users\n",
    "WHERE test = 'bears';\n",
    "-- 5\n",
    "-- Find all the emails of all users who \n",
    "-- received a campaign on website BBB.\n",
    "SELECT email\n",
    "FROM users\n",
    "WHERE campaign LIKE 'BBB%';\n",
    "-- 6\n",
    "-- Find all the emails of all users who received ad copy 2 in \n",
    "-- their campaign.\n",
    "SELECT email\n",
    "FROM users\n",
    "WHERE campaign LIKE '%-2';\n",
    "-- 7\n",
    "-- Find the emails for all users who received both a campaign and a test. \n",
    "-- These users will have non-empty entries in the \n",
    "-- campaign and test columns.\n",
    "SELECT email\n",
    "FROM users\n",
    "WHERE campaign IS NOT NULL \n",
    "AND test IS NOT NULL;"
   ]
  },
  {
   "cell_type": "code",
   "execution_count": null,
   "id": "d23cd8f3-1765-4bc3-8283-64bc1e564e0a",
   "metadata": {},
   "outputs": [],
   "source": [
    "#Burgers Ad\n",
    "-- 1\n",
    "-- What are the column names?\n",
    "SELECT *\n",
    "FROM orders\n",
    "LIMIT 10;\n",
    "-- 2 \n",
    "-- How recent is this data?\n",
    "SELECT DISTINCT order_date\n",
    "FROM orders;\n",
    "-- 3\n",
    "-- Instead of selecting all the columns using *, \n",
    "-- write a query that selects only the special_instructions column.\n",
    "-- Limit the result to 20 rows.\n",
    "SELECT special_instructions\n",
    "FROM orders\n",
    "LIMIT 20;\n",
    "-- 4 \n",
    "-- Can you edit the query so that we are only \n",
    "-- returning the special instructions that are not empty?\n",
    "SELECT special_instructions\n",
    "FROM orders\n",
    "WHERE special_instructions IS NOT NULL\n",
    "-- 5\n",
    "-- Let’s go even further and sort the instructions \n",
    "-- in alphabetical order (A-Z).\n",
    "SELECT special_instructions\n",
    "FROM orders\n",
    "WHERE special_instructions IS NOT NULL\n",
    "ORDER BY special_instructions;\n",
    "-- 6\n",
    "-- Let’s search for special instructions that have the word ‘sauce’.\n",
    "-- Are there any funny or interesting ones? \n",
    "SELECT special_instructions\n",
    "FROM orders\n",
    "WHERE special_instructions LIKE '%sauce%';\n",
    "-- 7\n",
    "-- Let’s search for special instructions that have the word ‘door’.\n",
    "-- Any funny or interesting ones?\n",
    "SELECT special_instructions\n",
    "FROM orders\n",
    "WHERE special_instructions LIKE '%door%';\n",
    "-- 8\n",
    "-- Let’s search for special instructions that have the word ‘box’.\n",
    "-- Any funny or interesting ones?\n",
    "SELECT special_instructions\n",
    "FROM orders\n",
    "WHERE special_instructions LIKE '%box%';\n",
    "-- 9\n",
    "-- Instead of just returning the special instructions, also return their order ids.\n",
    "-- For more readability:\n",
    "-- Rename id as ‘#’\n",
    "-- Rename special_instructions as ‘Notes’\n",
    "SELECT id AS '#',\n",
    "   special_instructions AS 'Notes'\n",
    "FROM orders\n",
    "WHERE special_instructions LIKE '%box%';"
   ]
  }
 ],
 "metadata": {
  "kernelspec": {
   "display_name": "Python 3 (ipykernel)",
   "language": "python",
   "name": "python3"
  },
  "language_info": {
   "codemirror_mode": {
    "name": "ipython",
    "version": 3
   },
   "file_extension": ".py",
   "mimetype": "text/x-python",
   "name": "python",
   "nbconvert_exporter": "python",
   "pygments_lexer": "ipython3",
   "version": "3.9.12"
  }
 },
 "nbformat": 4,
 "nbformat_minor": 5
}
