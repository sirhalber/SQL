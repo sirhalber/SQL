{
 "cells": [
  {
   "cell_type": "code",
   "execution_count": null,
   "metadata": {},
   "outputs": [],
   "source": [
    "# Select everything from the file celebs\n",
    "SELECT * \n",
    "FROM celebs;\n"
   ]
  },
  {
   "cell_type": "code",
   "execution_count": null,
   "metadata": {},
   "outputs": [],
   "source": [
    "# Create new table\n",
    "CREATE TABLE celebs (\n",
    "   id INTEGER, \n",
    "   name TEXT, \n",
    "   age INTEGER\n",
    "); "
   ]
  },
  {
   "cell_type": "code",
   "execution_count": null,
   "metadata": {},
   "outputs": [],
   "source": [
    "# Insert new values to an existing table\n",
    "INSERT INTO celebs (id, name, age) \n",
    "VALUES (1, 'Justin Bieber', 22);"
   ]
  },
  {
   "cell_type": "code",
   "execution_count": null,
   "metadata": {},
   "outputs": [],
   "source": [
    "# Insert new values to an existing table\n",
    "INSERT INTO celebs (id, name, age) \n",
    "VALUES (1, 'Justin Bieber', 22); \n",
    "\n",
    "INSERT INTO celebs (id, name, age) \n",
    "VALUES (2, 'Beyonce Knowles', 33); \n",
    " \n",
    "INSERT INTO celebs (id, name, age) \n",
    "VALUES (3, 'Jeremy Lin', 26); \n",
    " \n",
    "INSERT INTO celebs (id, name, age) \n",
    "VALUES (4, 'Taylor Swift', 26); "
   ]
  },
  {
   "cell_type": "code",
   "execution_count": null,
   "metadata": {},
   "outputs": [],
   "source": [
    "# Modify an existing table\n",
    "ALTER TABLE celebs \n",
    "ADD COLUMN twitter_handle TEXT;"
   ]
  },
  {
   "cell_type": "code",
   "execution_count": null,
   "metadata": {},
   "outputs": [],
   "source": [
    "# Editing a row in a table\n",
    "UPDATE celebs \n",
    "SET twitter_handle = '@taylorswift13' \n",
    "WHERE id = 4; "
   ]
  },
  {
   "cell_type": "code",
   "execution_count": null,
   "metadata": {},
   "outputs": [],
   "source": [
    "# Deleting a row in a table\n",
    "DELETE FROM celebs \n",
    "WHERE twitter_handle IS NULL;"
   ]
  },
  {
   "cell_type": "code",
   "execution_count": null,
   "metadata": {},
   "outputs": [],
   "source": [
    " # Create a column using constraints\n",
    "CREATE TABLE celebs (\n",
    "   id INTEGER PRIMARY KEY, \n",
    "   name TEXT UNIQUE,\n",
    "   date_of_birth TEXT NOT NULL,\n",
    "   date_of_death TEXT DEFAULT 'Not Applicable'\n",
    "   );"
   ]
  },
  {
   "cell_type": "code",
   "execution_count": null,
   "metadata": {},
   "outputs": [],
   "source": [
    " # Select from a speccific table\n",
    "SELECT column1, column2 \n",
    "FROM table_name;"
   ]
  },
  {
   "cell_type": "code",
   "execution_count": null,
   "metadata": {},
   "outputs": [],
   "source": [
    " # Using aliases\n",
    "SELECT imdb_rating AS 'IMDb'\n",
    "FROM movies;"
   ]
  },
  {
   "cell_type": "code",
   "execution_count": null,
   "metadata": {},
   "outputs": [],
   "source": [
    " # Select distinct values\n",
    "SELECT DISTINCT year \n",
    "FROM movies;"
   ]
  },
  {
   "cell_type": "code",
   "execution_count": null,
   "metadata": {},
   "outputs": [],
   "source": [
    " # Using where \n",
    "SELECT * \n",
    "FROM movies \n",
    "WHERE year > 2014;"
   ]
  },
  {
   "cell_type": "code",
   "execution_count": null,
   "metadata": {},
   "outputs": [],
   "source": [
    " # Comparing similar values\n",
    "SELECT * \n",
    "FROM movies\n",
    "WHERE name LIKE 'Se_en';"
   ]
  },
  {
   "cell_type": "code",
   "execution_count": null,
   "metadata": {},
   "outputs": [],
   "source": [
    "# Comparing similar values\n",
    "SELECT * \n",
    "FROM movies\n",
    "WHERE name LIKE 'The %';"
   ]
  },
  {
   "cell_type": "code",
   "execution_count": null,
   "metadata": {},
   "outputs": [],
   "source": [
    "# Unknown values\n",
    "SELECT name\n",
    "FROM movies \n",
    "WHERE imdb_rating IS NULL;"
   ]
  },
  {
   "cell_type": "code",
   "execution_count": null,
   "metadata": {},
   "outputs": [],
   "source": [
    "# Filter values\n",
    "SELECT *\n",
    "FROM movies\n",
    "WHERE name BETWEEN 'D' AND 'G';"
   ]
  },
  {
   "cell_type": "code",
   "execution_count": null,
   "metadata": {},
   "outputs": [],
   "source": [
    "# Filtering using AND\n",
    "SELECT *\n",
    "FROM movies\n",
    "WHERE year < 1985\n",
    "  AND genre = 'horror';"
   ]
  },
  {
   "cell_type": "code",
   "execution_count": null,
   "metadata": {},
   "outputs": [],
   "source": [
    "# Using OR\n",
    "SELECT *\n",
    "FROM movies\n",
    "WHERE genre = 'romance'\n",
    "   OR genre = 'comedy';"
   ]
  },
  {
   "cell_type": "code",
   "execution_count": null,
   "metadata": {},
   "outputs": [],
   "source": [
    "# Sorting results\n",
    "SELECT name, year, imdb_rating\n",
    "FROM movies\n",
    "ORDER BY imdb_rating DESC;"
   ]
  },
  {
   "cell_type": "code",
   "execution_count": null,
   "metadata": {},
   "outputs": [],
   "source": [
    "# Limiting number or results\n",
    "SELECT *\n",
    "FROM movies\n",
    "ORDER BY imdb_rating DESC\n",
    "LIMIT 3;"
   ]
  },
  {
   "cell_type": "code",
   "execution_count": null,
   "metadata": {},
   "outputs": [],
   "source": [
    "# Creating different outputs\n",
    "SELECT name,\n",
    " CASE\n",
    "  WHEN genre = 'romance' THEN 'Chill'\n",
    "  WHEN genre = 'comedy' THEN 'Chill'\n",
    "  ELSE 'Intense'\n",
    " END AS 'Mood'\n",
    "FROM movies;"
   ]
  },
  {
   "cell_type": "code",
   "execution_count": null,
   "metadata": {},
   "outputs": [],
   "source": [
    "# Count rows on a table\n",
    "SELECT COUNT(*) \n",
    "FROM fake_apps\n",
    "WHERE price = 0;"
   ]
  },
  {
   "cell_type": "code",
   "execution_count": null,
   "metadata": {},
   "outputs": [],
   "source": [
    "# Sum all specific values\n",
    "SELECT SUM(downloads)\n",
    "FROM fake_apps;"
   ]
  },
  {
   "cell_type": "code",
   "execution_count": null,
   "metadata": {},
   "outputs": [],
   "source": [
    "# Min and max values\n",
    "SELECT max(price)\n",
    "FROM fake_apps;"
   ]
  },
  {
   "cell_type": "code",
   "execution_count": null,
   "metadata": {},
   "outputs": [],
   "source": [
    "# Average value\n",
    "SELECT AVG(price)\n",
    "FROM fake_apps;"
   ]
  },
  {
   "cell_type": "code",
   "execution_count": null,
   "metadata": {},
   "outputs": [],
   "source": [
    "# Rounded value\n",
    "SELECT ROUND(AVG(price), 2)\n",
    "FROM fake_apps;"
   ]
  },
  {
   "cell_type": "code",
   "execution_count": null,
   "metadata": {},
   "outputs": [],
   "source": [
    "# Group by\n",
    "SELECT category, SUM(downloads) \n",
    "FROM fake_apps\n",
    "GROUP BY category;"
   ]
  },
  {
   "cell_type": "code",
   "execution_count": null,
   "metadata": {},
   "outputs": [],
   "source": [
    "# Group by an specific calculation\n",
    "SELECT category, \n",
    "   price,\n",
    "   AVG(downloads)\n",
    "FROM fake_apps\n",
    "GROUP BY 1, 2;"
   ]
  },
  {
   "cell_type": "code",
   "execution_count": null,
   "metadata": {},
   "outputs": [],
   "source": [
    "# Filtering groups to include and exclude\n",
    "SELECT price, \n",
    "   ROUND(AVG(downloads)),\n",
    "   COUNT(*)\n",
    "FROM fake_apps\n",
    "GROUP BY price\n",
    "HAVING COUNT(*) > 10;"
   ]
  },
  {
   "cell_type": "code",
   "execution_count": null,
   "metadata": {},
   "outputs": [],
   "source": [
    "# Multiple tables\n",
    "SELECT *\n",
    "FROM orders\n",
    "LIMIT 5;\n",
    " \n",
    "SELECT *\n",
    "FROM subscriptions\n",
    "LIMIT 5;\n",
    " \n",
    "SELECT * \n",
    "FROM customers\n",
    "LIMIT 5;"
   ]
  },
  {
   "cell_type": "code",
   "execution_count": null,
   "metadata": {},
   "outputs": [],
   "source": [
    "# Combining two tables and selecting data from the resulting table\n",
    "SELECT *\n",
    "FROM orders\n",
    "JOIN subscriptions\n",
    "  ON orders.subscription_id = subscriptions.subscription_id;\n",
    "\n",
    "SELECT *\n",
    "FROM orders \n",
    "JOIN subscriptions\n",
    "  ON orders.subscription_id = subscriptions.subscription_id\n",
    "WHERE subscriptions.description = 'Fashion Magazine'"
   ]
  },
  {
   "cell_type": "code",
   "execution_count": null,
   "metadata": {},
   "outputs": [],
   "source": [
    "# More JOINS\n",
    "SELECT COUNT(*)\n",
    "FROM newspaper;\n",
    "\n",
    "SELECT COUNT(*)\n",
    "FROM online;\n",
    "\n",
    "SELECT COUNT(*)\n",
    "FROM newspaper\n",
    "JOIN online \n",
    "ON newspaper.id = online.id"
   ]
  },
  {
   "cell_type": "code",
   "execution_count": null,
   "metadata": {},
   "outputs": [],
   "source": [
    "# left JOIN\n",
    "SELECT *\n",
    "FROM newspaper\n",
    "LEFT JOIN online\n",
    "  ON newspaper.id = online.id;\n",
    "SELECT *\n",
    "FROM newspaper\n",
    "LEFT JOIN online\n",
    "  ON newspaper.id = online.id\n",
    "WHERE online.id IS NULL;"
   ]
  },
  {
   "cell_type": "code",
   "execution_count": null,
   "metadata": {},
   "outputs": [],
   "source": [
    "# Cross JOIN\n",
    "SELECT COUNT(*)\n",
    "FROM newspaper\n",
    "WHERE start_month <= 3 \n",
    "  AND end_month >= 3;\n",
    "SELECT *\n",
    "FROM newspaper\n",
    "CROSS JOIN months;\n",
    "SELECT *\n",
    "FROM newspaper\n",
    "CROSS JOIN months\n",
    "WHERE start_month <= month AND end_month >= month;\n",
    "SELECT month,\n",
    "   COUNT(*)\n",
    "FROM newspaper\n",
    "CROSS JOIN months\n",
    "WHERE start_month <= month \n",
    "   AND end_month >= month\n",
    "GROUP BY month;"
   ]
  },
  {
   "cell_type": "code",
   "execution_count": null,
   "metadata": {},
   "outputs": [],
   "source": [
    "# Stacking datasets\n",
    "SELECT * \n",
    "FROM newspaper \n",
    "UNION \n",
    "SELECT * \n",
    "FROM online;"
   ]
  },
  {
   "cell_type": "code",
   "execution_count": null,
   "metadata": {},
   "outputs": [],
   "source": [
    "# Combining tables using WITH\n",
    "WITH previous_query AS (\n",
    "   SELECT customer_id,\n",
    "      COUNT(subscription_id) AS 'subscriptions'\n",
    "   FROM orders\n",
    "   GROUP BY customer_id\n",
    ")\n",
    "SELECT customers.customer_name, \n",
    "   previous_query.subscriptions\n",
    "FROM previous_query\n",
    "JOIN customers\n",
    "  ON previous_query.customer_id = customers.customer_id;"
   ]
  }
 ],
 "metadata": {
  "kernelspec": {
   "display_name": "Python 3 (ipykernel)",
   "language": "python",
   "name": "python3"
  },
  "language_info": {
   "codemirror_mode": {
    "name": "ipython",
    "version": 3
   },
   "file_extension": ".py",
   "mimetype": "text/x-python",
   "name": "python",
   "nbconvert_exporter": "python",
   "pygments_lexer": "ipython3",
   "version": "3.9.12"
  }
 },
 "nbformat": 4,
 "nbformat_minor": 4
}
