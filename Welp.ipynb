{
 "cells": [
  {
   "cell_type": "code",
   "execution_count": null,
   "id": "9e7e1a27-867e-414c-bb32-f5d0c00f332a",
   "metadata": {},
   "outputs": [],
   "source": [
    "SELECT * \n",
    "FROM places;\n",
    "SELECT * \n",
    "FROM reviews;\n",
    "SELECT *\n",
    "FROM places\n",
    "WHERE price_point = '$' \n",
    "OR price_point = '$$';\n",
    "SELECT places.name, \n",
    "places.average_rating,\n",
    "reviews.username,\n",
    "reviews.rating,\n",
    "reviews.review_date,\n",
    "reviews.note\n",
    "FROM places\n",
    "JOIN reviews ON\n",
    "places.id = reviews.place_id\n",
    "WHERE total_reviews > 0;\n",
    "SELECT places.name, \n",
    "places.average_rating,\n",
    "reviews.username,\n",
    "reviews.rating,\n",
    "reviews.review_date,\n",
    "reviews.note\n",
    "FROM places\n",
    "LEFT JOIN reviews ON\n",
    "places.id = reviews.place_id\n",
    "WHERE total_reviews > 0;\n",
    "SELECT places.id, places.name\n",
    "FROM places \n",
    "LEFT JOIN reviews \n",
    "   ON places.id = reviews.place_id\n",
    "WHERE reviews.review_date IS NULL;\n",
    "WITH reviews_2020 AS (\n",
    "  SELECT *\n",
    "  FROM reviews \n",
    "  WHERE strftime(\"%Y\", review_date) = 2020\n",
    ")\n",
    "SELECT *\n",
    "FROM reviews\n",
    "JOIN reviews_2020\n",
    "ON reviews.id = reviews_2020.id;"
   ]
  }
 ],
 "metadata": {
  "kernelspec": {
   "display_name": "Python 3 (ipykernel)",
   "language": "python",
   "name": "python3"
  },
  "language_info": {
   "codemirror_mode": {
    "name": "ipython",
    "version": 3
   },
   "file_extension": ".py",
   "mimetype": "text/x-python",
   "name": "python",
   "nbconvert_exporter": "python",
   "pygments_lexer": "ipython3",
   "version": "3.9.12"
  }
 },
 "nbformat": 4,
 "nbformat_minor": 5
}
