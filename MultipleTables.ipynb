{
 "cells": [
  {
   "cell_type": "code",
   "execution_count": null,
   "id": "b4b53c25-0c90-4e00-a3a5-3b5c1d6f240a",
   "metadata": {},
   "outputs": [],
   "source": [
    "#Challenge 1\n",
    "SELECT premium_users.user_id,\n",
    "   plans.description\n",
    "FROM premium_users\n",
    "JOIN plans\n",
    "  ON plans.id = premium_users.membership_plan_id;"
   ]
  },
  {
   "cell_type": "code",
   "execution_count": null,
   "id": "c07d66fb-1cf9-462d-bd29-608ffc89ded3",
   "metadata": {},
   "outputs": [],
   "source": [
    "#Challenge 2\n",
    "SELECT plays.user_id, plays.play_date, songs.title\n",
    "FROM plays\n",
    "JOIN songs \n",
    "ON songs.id = plays.song_id;"
   ]
  },
  {
   "cell_type": "code",
   "execution_count": null,
   "id": "8b28bdd1-f5da-49b2-b6ed-dc52c5559394",
   "metadata": {},
   "outputs": [],
   "source": [
    "#Challenge 3\n",
    "SELECT users.id\n",
    "FROM users\n",
    "LEFT JOIN premium_users\n",
    "ON premium_users.user_id = users.id\n",
    "WHERE premium_users.user_id IS NULL; "
   ]
  },
  {
   "cell_type": "code",
   "execution_count": null,
   "id": "bef6520f-7556-47d2-857f-b4e8aaa62c4a",
   "metadata": {},
   "outputs": [],
   "source": [
    "#Challenge 4\n",
    "WITH january AS (\n",
    "  SELECT *\n",
    "  FROM plays\n",
    "  WHERE strftime(\"%m\", play_date) = '01'\n",
    "),\n",
    "february AS (\n",
    "  SELECT *\n",
    "  FROM plays\n",
    "  WHERE strftime(\"%m\", play_date) = '02'\n",
    ")\n",
    "SELECT january.user_id\n",
    "FROM january\n",
    "LEFT JOIN february \n",
    "ON february.user_id = january.user_id\n",
    "WHERE february.user_id IS NULL;"
   ]
  },
  {
   "cell_type": "code",
   "execution_count": null,
   "id": "6a3fdcdf-5663-4b42-8dd2-006371d8fdc1",
   "metadata": {},
   "outputs": [],
   "source": [
    "#Challenge 5\n",
    "SELECT premium_users.user_id, \n",
    "premium_users.purchase_date,\n",
    "premium_users.cancel_date,\n",
    "months.months\n",
    "FROM premium_users\n",
    "CROSS JOIN months;"
   ]
  },
  {
   "cell_type": "code",
   "execution_count": null,
   "id": "5bcca3a8-095b-4465-85e8-a441fbb70b07",
   "metadata": {},
   "outputs": [],
   "source": [
    "#Challenge 6\n",
    "SELECT premium_users.user_id,\n",
    "  months.months,\n",
    "  CASE\n",
    "    WHEN (\n",
    "      premium_users.purchase_date <= months.months\n",
    "      )\n",
    "      AND\n",
    "      (\n",
    "        premium_users.cancel_date >= months.months\n",
    "        OR\n",
    "        premium_users.cancel_date IS NULL\n",
    "      )\n",
    "    THEN 'active'\n",
    "    ELSE 'not_active'\n",
    "  END AS 'status'\n",
    "FROM premium_users\n",
    "CROSS JOIN months;"
   ]
  },
  {
   "cell_type": "code",
   "execution_count": null,
   "id": "2aec8b60-6eeb-423b-beaa-6439725bbfa8",
   "metadata": {},
   "outputs": [],
   "source": [
    "#Challenge 7\n",
    "SELECT *\n",
    "FROM songs\n",
    "UNION\n",
    "SELECT *\n",
    "FROM bonus_songs\n",
    "LIMIT 10;"
   ]
  },
  {
   "cell_type": "code",
   "execution_count": null,
   "id": "575f5a92-1c03-476f-8d43-3c780b312e2f",
   "metadata": {},
   "outputs": [],
   "source": [
    "#Challenge 8\n",
    "SELECT '2017-01-01' as month\n",
    "UNION\n",
    "SELECT '2017-02-01' as month\n",
    "UNION\n",
    "SELECT '2017-03-01' as month;"
   ]
  },
  {
   "cell_type": "code",
   "execution_count": null,
   "id": "e0c62be9-218b-4654-ad13-e4394d015840",
   "metadata": {},
   "outputs": [],
   "source": [
    "#Challenge 9\n",
    "WITH play_count AS (\n",
    "SELECT song_id,\n",
    "   COUNT(*) AS 'times_played'\n",
    "FROM plays\n",
    "GROUP BY song_id\n",
    ")\n",
    "SELECT songs.title,\n",
    "songs.artist,\n",
    "play_count.times_played\n",
    "FROM songs\n",
    "JOIN play_count \n",
    "ON play_count.song_id = songs.id;"
   ]
  }
 ],
 "metadata": {
  "kernelspec": {
   "display_name": "Python 3 (ipykernel)",
   "language": "python",
   "name": "python3"
  },
  "language_info": {
   "codemirror_mode": {
    "name": "ipython",
    "version": 3
   },
   "file_extension": ".py",
   "mimetype": "text/x-python",
   "name": "python",
   "nbconvert_exporter": "python",
   "pygments_lexer": "ipython3",
   "version": "3.9.12"
  }
 },
 "nbformat": 4,
 "nbformat_minor": 5
}
