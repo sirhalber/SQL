{
 "cells": [
  {
   "cell_type": "code",
   "execution_count": null,
   "id": "19b151a8-2da2-498a-bb74-1f956ce55b73",
   "metadata": {},
   "outputs": [],
   "source": [
    "SELECT * FROM trips;\n",
    "SELECT * FROM riders;\n",
    "SELECT * FROM cars;\n",
    "SELECT *\n",
    "FROM riders\n",
    "CROSS JOIN cars;\n",
    "SELECT *\n",
    "FROM trips\n",
    "LEFT JOIN riders\n",
    "ON trips.id = riders.id;\n",
    "SELECT *\n",
    "FROM trips\n",
    "INNER JOIN cars\n",
    "ON trips.car_id = cars.id;\n",
    "SELECT *\n",
    "FROM riders\n",
    "UNION\n",
    "SELECT *\n",
    "FROM riders2;\n",
    "SELECT AVG(cost)\n",
    "FROM trips;\n",
    "SELECT *\n",
    "FROM riders\n",
    "WHERE total_trips < 500;\n",
    "SELECT COUNT(*)\n",
    "FROM cars\n",
    "WHERE status = 'active';\n",
    "SELECT *\n",
    "FROM cars\n",
    "ORDER BY trips_completed DESC\n",
    "LIMIT 2;"
   ]
  }
 ],
 "metadata": {
  "kernelspec": {
   "display_name": "Python 3 (ipykernel)",
   "language": "python",
   "name": "python3"
  },
  "language_info": {
   "codemirror_mode": {
    "name": "ipython",
    "version": 3
   },
   "file_extension": ".py",
   "mimetype": "text/x-python",
   "name": "python",
   "nbconvert_exporter": "python",
   "pygments_lexer": "ipython3",
   "version": "3.9.12"
  }
 },
 "nbformat": 4,
 "nbformat_minor": 5
}
