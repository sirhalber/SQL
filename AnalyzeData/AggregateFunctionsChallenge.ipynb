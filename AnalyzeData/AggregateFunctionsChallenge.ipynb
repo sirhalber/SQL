{
 "cells": [
  {
   "cell_type": "code",
   "execution_count": null,
   "id": "9e4e46cb-dfce-4e29-8aed-0273903d3f84",
   "metadata": {},
   "outputs": [],
   "source": [
    "#Code Challenge 1\n",
    "SELECT COUNT (*)\n",
    "FROM users\n",
    "WHERE email LIKE '%.com'"
   ]
  },
  {
   "cell_type": "code",
   "execution_count": null,
   "id": "f3cce48b-fd7c-419b-a4e2-66c0c068a744",
   "metadata": {},
   "outputs": [],
   "source": [
    "#Code Challenge 2\n",
    "SELECT first_name, COUNT(*) AS 'count'\n",
    "FROM users\n",
    "GROUP BY first_name\n",
    "ORDER BY 2 DESC"
   ]
  },
  {
   "cell_type": "code",
   "execution_count": null,
   "id": "a6af579e-4b4e-4eeb-8baf-6fc456da727e",
   "metadata": {},
   "outputs": [],
   "source": [
    "#Code Challenge 3\n",
    "SELECT ROUND(watch_duration_in_minutes) AS 'duration', \n",
    "COUNT(*) AS 'count'\n",
    "FROM watch_history\n",
    "GROUP BY 1\n",
    "ORDER BY 1"
   ]
  },
  {
   "cell_type": "code",
   "execution_count": null,
   "id": "cfa8b3f9-e77e-4d3a-a0a5-e4088fb7e8b2",
   "metadata": {},
   "outputs": [],
   "source": [
    "#Code Challenge 4\n",
    "SELECT user_id, SUM(amount)\n",
    "FROM payments\n",
    "WHERE status = 'paid'\n",
    "GROUP BY user_id\n",
    "ORDER BY 2 DESC"
   ]
  },
  {
   "cell_type": "code",
   "execution_count": null,
   "id": "47324ce9-ab08-4142-80a8-d4c44cdae81d",
   "metadata": {},
   "outputs": [],
   "source": [
    "#Code Challenge 5\n",
    "SELECT user_id, SUM(watch_duration_in_minutes)\n",
    "FROM watch_history\n",
    "GROUP BY user_id\n",
    "HAVING SUM(watch_duration_in_minutes) > 400"
   ]
  },
  {
   "cell_type": "code",
   "execution_count": null,
   "id": "8bb8bc08-39ab-44ed-a976-f65aca0bfc2b",
   "metadata": {},
   "outputs": [],
   "source": [
    "#Code Challenge 6\n",
    "SELECT ROUND(SUM(watch_duration_in_minutes))\n",
    "FROM watch_history"
   ]
  },
  {
   "cell_type": "code",
   "execution_count": null,
   "id": "c601a8ff-787e-4473-85de-e7781d8e6517",
   "metadata": {},
   "outputs": [],
   "source": [
    "#Code Challenge 7\n",
    "SELECT pay_date, SUM(amount)\n",
    "FROM payments\n",
    "WHERE status = 'paid'\n",
    "GROUP BY pay_date\n",
    "ORDER BY 2 DESC"
   ]
  },
  {
   "cell_type": "code",
   "execution_count": null,
   "id": "a7f9e5be-9e91-48cd-b470-3f6d42458f6e",
   "metadata": {},
   "outputs": [],
   "source": [
    "#Code Challenge 8\n",
    "SELECT AVG(amount)\n",
    "FROM payments\n",
    "WHERE status = 'paid'"
   ]
  },
  {
   "cell_type": "code",
   "execution_count": null,
   "id": "8a586452-f84e-4761-ac6d-26eb07773a6b",
   "metadata": {},
   "outputs": [],
   "source": [
    "#Code Challenge 9\n",
    "SELECT MAX(watch_duration_in_minutes) AS 'max',\n",
    "MIN(watch_duration_in_minutes) AS 'min'\n",
    "FROM watch_history"
   ]
  }
 ],
 "metadata": {
  "kernelspec": {
   "display_name": "Python 3 (ipykernel)",
   "language": "python",
   "name": "python3"
  },
  "language_info": {
   "codemirror_mode": {
    "name": "ipython",
    "version": 3
   },
   "file_extension": ".py",
   "mimetype": "text/x-python",
   "name": "python",
   "nbconvert_exporter": "python",
   "pygments_lexer": "ipython3",
   "version": "3.9.12"
  }
 },
 "nbformat": 4,
 "nbformat_minor": 5
}
