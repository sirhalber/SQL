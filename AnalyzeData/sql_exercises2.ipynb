{
 "cells": [
  {
   "cell_type": "code",
   "execution_count": null,
   "id": "8d14bf39-474a-4957-9e14-752f1e6113a6",
   "metadata": {},
   "outputs": [],
   "source": [
    "#NY restaurants\n",
    "\n",
    "SELECT *\n",
    "FROM nomnom;\n",
    "SELECT DISTINCT neighborhood \n",
    "FROM nomnom;\n",
    "SELECT DISTINCT cuisine\n",
    "FROM nomnom;\n",
    "SELECT name\n",
    "FROM nomnom\n",
    "WHERE cuisine = 'Chinese';\n",
    "SELECT *\n",
    "FROM nomnom\n",
    "WHERE review >= 4;\n",
    "SELECT *\n",
    "FROM nomnom\n",
    "WHERE cuisine = 'Italian' AND price = '$$$';\n",
    "SELECT name\n",
    "FROM nomnom\n",
    "WHERE name LIKE \"%meatball%\";\n",
    "SELECT *\n",
    "FROM nomnom\n",
    "WHERE neighborhood = 'Midtown' \n",
    "OR neighborhood = 'Downtown'\n",
    "OR neighborhood = 'Chinatown';\n",
    "SELECT *\n",
    "FROM nomnom\n",
    "WHERE health IS NULL;\n",
    "SELECT *\n",
    "FROM nomnom\n",
    "ORDER BY review DESC\n",
    "LIMIT 10;\n",
    "SELECT name,\n",
    "CASE\n",
    "WHEN review > 4.5 THEN 'Extraordinary'\n",
    "WHEN review > 4 THEN 'Excellent'\n",
    "WHEN review > 3 THEN 'Good'\n",
    "WHEN review > 2 THEN 'FAIR'\n",
    "ELSE 'Poor'\n",
    "END AS 'Review'\n",
    "FROM nomnom;"
   ]
  }
 ],
 "metadata": {
  "kernelspec": {
   "display_name": "Python 3 (ipykernel)",
   "language": "python",
   "name": "python3"
  },
  "language_info": {
   "codemirror_mode": {
    "name": "ipython",
    "version": 3
   },
   "file_extension": ".py",
   "mimetype": "text/x-python",
   "name": "python",
   "nbconvert_exporter": "python",
   "pygments_lexer": "ipython3",
   "version": "3.9.12"
  }
 },
 "nbformat": 4,
 "nbformat_minor": 5
}
