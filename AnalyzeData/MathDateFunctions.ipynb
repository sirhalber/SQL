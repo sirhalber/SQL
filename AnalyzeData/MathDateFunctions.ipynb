{
 "cells": [
  {
   "cell_type": "code",
   "execution_count": null,
   "id": "adcd8a26-7270-42c2-9810-2d2b5d45938e",
   "metadata": {},
   "outputs": [],
   "source": [
    "#Math Operators\n",
    "SELECT price * quantity\n",
    "FROM bakery"
   ]
  },
  {
   "cell_type": "code",
   "execution_count": null,
   "id": "955a9e3a-3299-4fd3-8853-8525bc3726f3",
   "metadata": {},
   "outputs": [],
   "source": [
    "#Abs\n",
    "SELECT first_name, ABS(guess - 804)\n",
    "FROM guesses;\n",
    "\n",
    "SELECT ABS(AVG(guess) - 804)\n",
    "FROM guesses;"
   ]
  },
  {
   "cell_type": "code",
   "execution_count": null,
   "id": "01cf9212-6a7f-4add-842c-5d15c6b44741",
   "metadata": {},
   "outputs": [],
   "source": [
    "#CAST\n",
    "SELECT item_name, (price - CAST(discount AS\n",
    "REAL)) * quantity\n",
    "FROM bakery;"
   ]
  },
  {
   "cell_type": "code",
   "execution_count": null,
   "id": "90492636-2119-4b30-a086-2319410f4c47",
   "metadata": {},
   "outputs": [],
   "source": [
    "#Date and time I\n",
    "SELECT DATE(order_date)\n",
    "FROM bakery;"
   ]
  },
  {
   "cell_type": "code",
   "execution_count": null,
   "id": "1245ee59-2b80-419b-aa3b-797527e24842",
   "metadata": {},
   "outputs": [],
   "source": [
    "#Date and time II\n",
    "SELECT DATETIME(order_date, 'start of day', '+2 days', '+7 hours')\n",
    "FROM bakery;"
   ]
  },
  {
   "cell_type": "code",
   "execution_count": null,
   "id": "8a1feff4-8a4f-4b42-beee-c77958e47140",
   "metadata": {},
   "outputs": [],
   "source": [
    "#Date and time III\n",
    "SELECT strftime('%d', order_date) AS 'order_day',\n",
    "COUNT(*)\n",
    "FROM bakery\n",
    "GROUP BY 1\n",
    "ORDER BY 2 DESC;"
   ]
  },
  {
   "cell_type": "code",
   "execution_count": null,
   "id": "5c46d505-f3ad-4ad9-b2e6-6a008ed71c1a",
   "metadata": {},
   "outputs": [],
   "source": []
  }
 ],
 "metadata": {
  "kernelspec": {
   "display_name": "Python 3 (ipykernel)",
   "language": "python",
   "name": "python3"
  },
  "language_info": {
   "codemirror_mode": {
    "name": "ipython",
    "version": 3
   },
   "file_extension": ".py",
   "mimetype": "text/x-python",
   "name": "python",
   "nbconvert_exporter": "python",
   "pygments_lexer": "ipython3",
   "version": "3.9.12"
  }
 },
 "nbformat": 4,
 "nbformat_minor": 5
}
