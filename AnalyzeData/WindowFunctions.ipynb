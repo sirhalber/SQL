{
 "cells": [
  {
   "cell_type": "code",
   "execution_count": null,
   "id": "fe15b04d-354a-42b1-9f6a-1d40d4fa6022",
   "metadata": {},
   "outputs": [],
   "source": [
    "#Window Functions\n",
    "SELECT \n",
    "   month,\n",
    "   change_in_followers,\n",
    "   SUM(change_in_followers) OVER (\n",
    "      ORDER BY month\n",
    "   ) AS 'running_total'\n",
    "FROM\n",
    "   social_media\n",
    "WHERE\n",
    "   username = 'instagram';"
   ]
  },
  {
   "cell_type": "code",
   "execution_count": null,
   "id": "c9a5ca04-3f16-443a-bb29-46614612ace6",
   "metadata": {},
   "outputs": [],
   "source": [
    "#Window Function Sintax\n",
    "SELECT \n",
    "   month,\n",
    "   change_in_followers,\n",
    "   SUM(change_in_followers) OVER (\n",
    "      ORDER BY month\n",
    "   ) AS 'running_total',\n",
    "   AVG(change_in_followers) OVER (\n",
    "      ORDER BY month\n",
    "   ) AS 'running_avg',\n",
    "   COUNT(change_in_followers) OVER (\n",
    "      ORDER BY month\n",
    "   ) AS 'running_count'\n",
    "FROM\n",
    "   social_media\n",
    "WHERE\n",
    "   username = 'instagram';"
   ]
  },
  {
   "cell_type": "code",
   "execution_count": null,
   "id": "33551ee1-8362-4449-870e-510d098b932a",
   "metadata": {},
   "outputs": [],
   "source": [
    "#Partition By\n",
    "SELECT \n",
    "    username,\n",
    "    month,\n",
    "    change_in_followers,\n",
    "    SUM(change_in_followers) OVER (\n",
    "      PARTITION BY username \n",
    "      ORDER BY month\n",
    "    ) 'running_total_followers_change',\n",
    "    AVG(change_in_followers) OVER (\n",
    "      PARTITION BY username \n",
    "      ORDER BY month\n",
    "    ) 'running_avg_followers_change'\n",
    "FROM\n",
    "    social_media;"
   ]
  },
  {
   "cell_type": "code",
   "execution_count": null,
   "id": "66d0f112-c7d8-4749-8864-b43603e224c9",
   "metadata": {},
   "outputs": [],
   "source": [
    "#First and last value\n",
    "SELECT\n",
    "   username,\n",
    "   posts,\n",
    "   LAST_VALUE (posts) OVER (\n",
    "      PARTITION BY username \n",
    "      ORDER BY posts\n",
    "      RANGE BETWEEN UNBOUNDED PRECEDING AND \n",
    "      UNBOUNDED FOLLOWING\n",
    "    ) most_posts\n",
    "FROM\n",
    "    social_media;"
   ]
  },
  {
   "cell_type": "code",
   "execution_count": null,
   "id": "af6d3b1c-59e6-4c45-bd29-3f9bf80a4815",
   "metadata": {},
   "outputs": [],
   "source": [
    "#Lag\n",
    "SELECT\n",
    "   artist,\n",
    "   week,\n",
    "   streams_millions,\n",
    "   streams_millions - LAG(streams_millions, 1, streams_millions) OVER ( \n",
    "      PARTITION BY artist\n",
    "      ORDER BY week \n",
    "   ) AS 'streams_millions_change',\n",
    "   chart_position,\n",
    "   LAG(chart_position, 1, chart_position) OVER ( \n",
    "      PARTITION BY artist\n",
    "      ORDER BY week \n",
    ") - chart_position AS 'chart_position_change'\n",
    "FROM\n",
    "   streams\n",
    "WHERE \n",
    "   artist = 'Lady Gaga';"
   ]
  },
  {
   "cell_type": "code",
   "execution_count": null,
   "id": "60cc44a8-832f-471d-8c7a-3d1b70dee5dc",
   "metadata": {},
   "outputs": [],
   "source": [
    "#Lead\n",
    "SELECT\n",
    "   artist,\n",
    "   week,\n",
    "   streams_millions,\n",
    "   LEAD(streams_millions, 1) OVER (\n",
    "      PARTITION BY artist\n",
    "      ORDER BY week\n",
    "   ) - streams_millions AS 'streams_millions_change',\n",
    "   chart_position,\n",
    "   chart_position - LEAD(chart_position, 1) OVER ( \n",
    "      PARTITION BY artist\n",
    "      ORDER BY week \n",
    ") AS 'chart_position_change'\n",
    "FROM\n",
    "   streams;"
   ]
  },
  {
   "cell_type": "code",
   "execution_count": null,
   "id": "71e2d151-cffa-446b-ba22-5f37162fe24b",
   "metadata": {},
   "outputs": [],
   "source": [
    "#Row_number\n",
    "SELECT \n",
    "   ROW_NUMBER() OVER (\n",
    "      ORDER BY streams_millions DESC\n",
    "   ) AS 'row_num', \n",
    "   artist, \n",
    "   week,\n",
    "   streams_millions\n",
    "FROM\n",
    "   streams;"
   ]
  },
  {
   "cell_type": "code",
   "execution_count": null,
   "id": "2432959d-badd-4a64-a8ef-7b89c53e1d78",
   "metadata": {},
   "outputs": [],
   "source": [
    "#Rank\n",
    "SELECT \n",
    "   RANK() OVER (\n",
    "      PARTITION BY week\n",
    "      ORDER BY streams_millions DESC\n",
    "   ) AS 'rank', \n",
    "   artist, \n",
    "   week,\n",
    "   streams_millions\n",
    "FROM\n",
    "   streams;"
   ]
  },
  {
   "cell_type": "code",
   "execution_count": null,
   "id": "e3b631be-c186-4ee8-8aa1-e55926c266ba",
   "metadata": {},
   "outputs": [],
   "source": [
    "#NTITLE == quartiles\n",
    "SELECT \n",
    "   NTILE(4) OVER (\n",
    "     PARTITION BY week\n",
    "      ORDER BY streams_millions DESC\n",
    "   ) AS 'quartile', \n",
    "   artist, \n",
    "   week,\n",
    "   streams_millions\n",
    "FROM\n",
    "   streams;"
   ]
  }
 ],
 "metadata": {
  "kernelspec": {
   "display_name": "Python 3 (ipykernel)",
   "language": "python",
   "name": "python3"
  },
  "language_info": {
   "codemirror_mode": {
    "name": "ipython",
    "version": 3
   },
   "file_extension": ".py",
   "mimetype": "text/x-python",
   "name": "python",
   "nbconvert_exporter": "python",
   "pygments_lexer": "ipython3",
   "version": "3.9.12"
  }
 },
 "nbformat": 4,
 "nbformat_minor": 5
}
