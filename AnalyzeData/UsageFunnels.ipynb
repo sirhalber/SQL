{
 "cells": [
  {
   "cell_type": "code",
   "execution_count": null,
   "id": "af37dec1-aa08-4c6b-8744-b26a5eadffd2",
   "metadata": {},
   "outputs": [],
   "source": [
    "#Build a Funnel From a Single Table\n",
    "SELECT question_text, COUNT(DISTINCT user_id)\n",
    "FROM survey_responses\n",
    "GROUP BY question_text;"
   ]
  },
  {
   "cell_type": "code",
   "execution_count": null,
   "id": "3730939a-5c2f-4b4f-b883-13c445b4dee0",
   "metadata": {},
   "outputs": [],
   "source": [
    "#Compare Funnels For A/B Tests\n",
    "SELECT modal_text,\n",
    "  COUNT(DISTINCT CASE\n",
    "    WHEN ab_group = 'control' THEN user_id\n",
    "    END) AS 'control_clicks',\n",
    "    COUNT(DISTINCT CASE\n",
    "    WHEN ab_group = 'variant' THEN user_id\n",
    "    END) AS 'variant_clicks'\n",
    "FROM onboarding_modals\n",
    "GROUP BY 1\n",
    "ORDER BY 1;"
   ]
  },
  {
   "cell_type": "code",
   "execution_count": null,
   "id": "d954cc89-05d6-457a-a51e-f1af9bcd041a",
   "metadata": {},
   "outputs": [],
   "source": [
    "#Build a Funnel from Multiple Tables 1\n",
    "SELECT *\n",
    "FROM browse\n",
    "LIMIT 5;\n",
    " \n",
    "SELECT *\n",
    "FROM checkout\n",
    "LIMIT 5;\n",
    " \n",
    "SELECT *\n",
    "FROM purchase\n",
    "LIMIT 5;"
   ]
  },
  {
   "cell_type": "code",
   "execution_count": null,
   "id": "37e52e70-d21f-43e8-8828-ec7b7de33455",
   "metadata": {},
   "outputs": [],
   "source": [
    "#Build a Funnel from Multiple Tables 2\n",
    "SELECT DISTINCT b.browse_date,\n",
    "b.user_id,\n",
    "c.user_id IS NOT NULL AS 'is_checkout',\n",
    "p.user_id IS NOT NULL AS 'is_purchase'\n",
    "FROM browse b\n",
    "LEFT JOIN checkout c\n",
    "ON b.user_id = c.user_id\n",
    "LEFT JOIN purchase p\n",
    "ON b.user_id = p.user_id\n",
    "LIMIT 50;"
   ]
  },
  {
   "cell_type": "code",
   "execution_count": null,
   "id": "dce8d8aa-2fb8-4430-982b-9d52d112dccb",
   "metadata": {},
   "outputs": [],
   "source": [
    "#Build a Funnel from Multiple Tables 3\n",
    "WITH funnels AS (\n",
    "  SELECT DISTINCT b.browse_date,\n",
    "     b.user_id,\n",
    "     c.user_id IS NOT NULL AS 'is_checkout',\n",
    "     p.user_id IS NOT NULL AS 'is_purchase'\n",
    "  FROM browse AS 'b'\n",
    "  LEFT JOIN checkout AS 'c'\n",
    "    ON c.user_id = b.user_id\n",
    "  LEFT JOIN purchase AS 'p'\n",
    "    ON p.user_id = c.user_id)\n",
    "SELECT COUNT(*) AS 'num_browse',\n",
    "SUM(is_checkout) AS 'num_checkout',\n",
    "SUM(is_purchase) AS 'num_purchase',\n",
    "1.0 * SUM(is_checkout) / COUNT(user_id) AS 'percent_browse',\n",
    "1.0 * SUM(is_purchase) / SUM(is_checkout) AS 'percent_checkout'\n",
    "FROM funnels;"
   ]
  },
  {
   "cell_type": "code",
   "execution_count": null,
   "id": "0fd5b665-6636-45e3-86cd-eb2727829115",
   "metadata": {},
   "outputs": [],
   "source": [
    "#Build a Funnel from Multiple Tables 4\n",
    "WITH funnels AS (\n",
    "  SELECT DISTINCT b.browse_date,\n",
    "     b.user_id,\n",
    "     c.user_id IS NOT NULL AS 'is_checkout',\n",
    "     p.user_id IS NOT NULL AS 'is_purchase'\n",
    "  FROM browse AS 'b'\n",
    "  LEFT JOIN checkout AS 'c'\n",
    "    ON c.user_id = b.user_id\n",
    "  LEFT JOIN purchase AS 'p'\n",
    "    ON p.user_id = c.user_id)\n",
    "SELECT funnels.browse_date,\n",
    "   COUNT(*) AS 'num_browse',\n",
    "   SUM(is_checkout) AS 'num_checkout',\n",
    "   SUM(is_purchase) AS 'num_purchase',\n",
    "   1.0 * SUM(is_checkout) / COUNT(user_id) AS 'browse_to_checkout',\n",
    "   1.0 * SUM(is_purchase) / SUM(is_checkout) AS 'checkout_to_purchase'\n",
    "FROM funnels\n",
    "GROUP BY 1\n",
    "ORDER BY 1;\n",
    "#Conversion from checkout to purchase increases from 80% on 12/20 to 94% on 12/23!"
   ]
  }
 ],
 "metadata": {
  "kernelspec": {
   "display_name": "Python 3 (ipykernel)",
   "language": "python",
   "name": "python3"
  },
  "language_info": {
   "codemirror_mode": {
    "name": "ipython",
    "version": 3
   },
   "file_extension": ".py",
   "mimetype": "text/x-python",
   "name": "python",
   "nbconvert_exporter": "python",
   "pygments_lexer": "ipython3",
   "version": "3.9.12"
  }
 },
 "nbformat": 4,
 "nbformat_minor": 5
}
