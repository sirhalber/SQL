{
 "cells": [
  {
   "cell_type": "code",
   "execution_count": null,
   "id": "7d95d2b2-8311-4f66-8f37-fe0f7218d6bd",
   "metadata": {},
   "outputs": [],
   "source": [
    "#Analyze Hacker News Trends\n",
    "\n",
    "SELECT title, score\n",
    "FROM hacker_news\n",
    "ORDER BY score DESC\n",
    "LIMIT 5;\n",
    "SELECT SUM(score)\n",
    "FROM hacker_news;\n",
    "SELECT user, SUM(score)\n",
    "FROM hacker_news\n",
    "GROUP BY user\n",
    "HAVING SUM(score) > 200\n",
    "ORDER BY 2 DESC;\n",
    "SELECT (517 + 309 + 304 + 282) / 6366.0;\n",
    "SELECT user, COUNT (*)\n",
    "FROM hacker_news\n",
    "WHERE url LIKE '%watch?v=dQw4w9WgXcQ%'\n",
    "GROUP BY 1\n",
    "ORDER BY 2 DESC;\n",
    "SELECT CASE\n",
    "   WHEN url LIKE '%github.com%' THEN 'GitHub'\n",
    "   WHEN url LIKE '%medium.com%' THEN 'Medium'\n",
    "   WHEN url LIKE '%nytimes.com%' THEN 'New York Times'\n",
    "   ELSE 'Other'\n",
    "  END AS 'Source',\n",
    "  COUNT(*)\n",
    "FROM hacker_news\n",
    "GROUP BY 1;\n",
    "SELECT timestamp\n",
    "FROM hacker_news\n",
    "LIMIT 10;\n",
    "SELECT timestamp,\n",
    "   strftime('%H', timestamp)\n",
    "FROM hacker_news\n",
    "GROUP BY 1\n",
    "LIMIT 20;\n",
    "SELECT strftime('%H', timestamp) AS 'Hour', \n",
    "   ROUND(AVG(score), 1) AS 'Average Score', \n",
    "   COUNT(*) AS 'Number of Stories'\n",
    "FROM hacker_news\n",
    "WHERE timestamp IS NOT NULL\n",
    "GROUP BY 1\n",
    "ORDER BY 1;"
   ]
  }
 ],
 "metadata": {
  "kernelspec": {
   "display_name": "Python 3 (ipykernel)",
   "language": "python",
   "name": "python3"
  },
  "language_info": {
   "codemirror_mode": {
    "name": "ipython",
    "version": 3
   },
   "file_extension": ".py",
   "mimetype": "text/x-python",
   "name": "python",
   "nbconvert_exporter": "python",
   "pygments_lexer": "ipython3",
   "version": "3.9.12"
  }
 },
 "nbformat": 4,
 "nbformat_minor": 5
}
