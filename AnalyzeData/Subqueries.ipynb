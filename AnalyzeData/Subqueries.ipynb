{
 "cells": [
  {
   "cell_type": "code",
   "execution_count": null,
   "id": "be2c436b-aa01-4ea2-b74c-5a49dd5825c0",
   "metadata": {},
   "outputs": [],
   "source": [
    "SELECT *\n",
    "FROM band_students\n",
    "LIMIT 10;\n",
    "SELECT *\n",
    "FROM drama_students\n",
    "LIMIT 10;"
   ]
  },
  {
   "cell_type": "code",
   "execution_count": null,
   "id": "a6651280-7aef-4fd8-8b21-1c9bb0208d18",
   "metadata": {},
   "outputs": [],
   "source": [
    "SELECT first_name, last_name\n",
    "FROM band_students\n",
    "WHERE id IN (\n",
    "  SELECT id\n",
    "  FROM drama_students);"
   ]
  },
  {
   "cell_type": "code",
   "execution_count": null,
   "id": "82db3068-bb82-48a0-b32d-65249d50e27b",
   "metadata": {},
   "outputs": [],
   "source": [
    "DELETE FROM drama_students\n",
    "WHERE id IN (\n",
    "  SELECT id\n",
    "  FROM band_students\n",
    "  WHERE grade = 9);"
   ]
  },
  {
   "cell_type": "code",
   "execution_count": null,
   "id": "3ed49394-d7e4-4e28-9d31-138d3b477a4e",
   "metadata": {},
   "outputs": [],
   "source": [
    "SELECT *\n",
    "FROM drama_students\n",
    "WHERE grade = (\n",
    "  SELECT grade\n",
    "  FROM band_students\n",
    "  WHERE id = 20);"
   ]
  },
  {
   "cell_type": "code",
   "execution_count": null,
   "id": "55a155f5-71ea-4b37-a115-10e7523eecfc",
   "metadata": {},
   "outputs": [],
   "source": [
    "SELECT first_name, last_name\n",
    "FROM band_students\n",
    "WHERE id NOT IN (\n",
    "  SELECT id\n",
    "  FROM drama_students);"
   ]
  },
  {
   "cell_type": "code",
   "execution_count": null,
   "id": "06f9bce9-aceb-4675-ad2b-6ceb81ee2621",
   "metadata": {},
   "outputs": [],
   "source": [
    "SELECT grade\n",
    "FROM band_students\n",
    "WHERE EXISTS (\n",
    "  SELECT grade\n",
    "  FROM drama_students);"
   ]
  }
 ],
 "metadata": {
  "kernelspec": {
   "display_name": "Python 3 (ipykernel)",
   "language": "python",
   "name": "python3"
  },
  "language_info": {
   "codemirror_mode": {
    "name": "ipython",
    "version": 3
   },
   "file_extension": ".py",
   "mimetype": "text/x-python",
   "name": "python",
   "nbconvert_exporter": "python",
   "pygments_lexer": "ipython3",
   "version": "3.9.12"
  }
 },
 "nbformat": 4,
 "nbformat_minor": 5
}
