{
 "cells": [
  {
   "cell_type": "code",
   "execution_count": null,
   "id": "96661de7-9f31-480f-a390-7084f1261794",
   "metadata": {},
   "outputs": [],
   "source": [
    "SELECT COUNT(DISTINCT utm_campaign) \n",
    "FROM page_visits;\n",
    "\n",
    "SELECT COUNT(DISTINCT utm_source) \n",
    "FROM page_visits;\n",
    "\n",
    "SELECT DISTINCT utm_campaign, utm_source\n",
    "FROM page_visits;\n",
    "\n",
    "SELECT DISTINCT page_name\n",
    "FROM page_visits;\n",
    "\n",
    "WITH last_touch AS (\n",
    "    SELECT user_id,\n",
    "        MAX(timestamp) as last_touch_at\n",
    "    FROM page_visits\n",
    "    WHERE page_name = '4 - purchase'\n",
    "    GROUP BY user_id),\n",
    "lt_attr AS (\n",
    "  SELECT lt.user_id,\n",
    "         lt.last_touch_at,\n",
    "         pv.utm_source,\n",
    "         pv.utm_campaign,\n",
    "         pv.page_name\n",
    "  FROM last_touch lt\n",
    "  JOIN page_visits pv\n",
    "    ON lt.user_id = pv.user_id\n",
    "    AND lt.last_touch_at = pv.timestamp\n",
    ")\n",
    "SELECT lt_attr.utm_source,\n",
    "       lt_attr.utm_campaign,\n",
    "       COUNT(*)\n",
    "FROM lt_attr\n",
    "GROUP BY 1, 2\n",
    "ORDER BY 3 DESC;\n",
    "\n",
    "SELECT COUNT(DISTINCT user_id)\n",
    "FROM page_visits\n",
    "WHERE page_name = '4 - purchase';"
   ]
  }
 ],
 "metadata": {
  "kernelspec": {
   "display_name": "Python 3 (ipykernel)",
   "language": "python",
   "name": "python3"
  },
  "language_info": {
   "codemirror_mode": {
    "name": "ipython",
    "version": 3
   },
   "file_extension": ".py",
   "mimetype": "text/x-python",
   "name": "python",
   "nbconvert_exporter": "python",
   "pygments_lexer": "ipython3",
   "version": "3.9.12"
  }
 },
 "nbformat": 4,
 "nbformat_minor": 5
}
