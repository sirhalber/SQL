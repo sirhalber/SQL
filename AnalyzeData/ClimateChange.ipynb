{
 "cells": [
  {
   "cell_type": "code",
   "execution_count": null,
   "id": "f279cd81-6c82-48fc-a00c-1e993dd9cb85",
   "metadata": {},
   "outputs": [],
   "source": [
    "#Partition by\n",
    "SELECT state, \n",
    "       year, \n",
    "       tempf, \n",
    "       tempc, \n",
    "       AVG(tempc) OVER (\n",
    "         PARTITION BY state\n",
    "         ORDER BY year\n",
    "       ) 'running_avg_temp'\n",
    "FROM state_climate;"
   ]
  },
  {
   "cell_type": "code",
   "execution_count": null,
   "id": "94432f25-141c-49fb-89a0-e06c5d372d83",
   "metadata": {},
   "outputs": [],
   "source": [
    "#First value\n",
    "SELECT state, \n",
    "       year, \n",
    "       tempc, \n",
    "       FIRST_VALUE(tempc) OVER (\n",
    "         PARTITION BY state\n",
    "         ORDER BY tempc\n",
    "       ) 'lowest_temp'\n",
    "FROM state_climate;"
   ]
  },
  {
   "cell_type": "code",
   "execution_count": null,
   "id": "39ef55fa-257d-4671-a7ea-dcbc6baed2b3",
   "metadata": {},
   "outputs": [],
   "source": [
    "#Last value\n",
    "SELECT state, \n",
    "       year, \n",
    "       tempc, \n",
    "       LAST_VALUE(tempc) OVER (\n",
    "         PARTITION BY state\n",
    "         ORDER BY tempc\n",
    "         RANGE BETWEEN UNBOUNDED PRECEDING \n",
    "         AND  UNBOUNDED FOLLOWING\n",
    "       ) 'highest_temp'\n",
    "FROM state_climate;"
   ]
  },
  {
   "cell_type": "code",
   "execution_count": null,
   "id": "49795900-f0ee-4c42-8e9d-f8da4064fe1d",
   "metadata": {},
   "outputs": [],
   "source": [
    "#LAG\n",
    "SELECT state, \n",
    "       year, \n",
    "       tempc, \n",
    "       tempc - LAG(tempc, 1, tempc) \n",
    "       OVER (\n",
    "         PARTITION BY state\n",
    "         ORDER BY year\n",
    "        ) AS 'change_in_temp'\n",
    "FROM state_climate\n",
    "ORDER BY change_in_temp DESC;"
   ]
  },
  {
   "cell_type": "code",
   "execution_count": null,
   "id": "9f522c5b-caa5-4772-9bb8-4509009f127b",
   "metadata": {},
   "outputs": [],
   "source": [
    "#Rank I\n",
    "SELECT state, \n",
    "       year, \n",
    "       tempc, \n",
    "       RANK() OVER (\n",
    "         ORDER BY tempc\n",
    "       ) AS 'coldest_rank'\n",
    "FROM state_climate;"
   ]
  },
  {
   "cell_type": "code",
   "execution_count": null,
   "id": "223863ef-029b-4aa6-b847-01b71d010065",
   "metadata": {},
   "outputs": [],
   "source": [
    "#Rank II\n",
    "SELECT state, \n",
    "       year, \n",
    "       tempc, \n",
    "       RANK() OVER (\n",
    "         PARTITION BY state\n",
    "         ORDER BY tempc DESC\n",
    "       ) AS 'warmest_rank'\n",
    "FROM state_climate;"
   ]
  },
  {
   "cell_type": "code",
   "execution_count": null,
   "id": "cb50990b-a036-423c-9039-2b8ba38291e4",
   "metadata": {},
   "outputs": [],
   "source": [
    "#NTILE I\n",
    "SELECT NTILE(4) OVER (\n",
    "  PARTITION BY state\n",
    "  ORDER BY tempc \n",
    ") AS 'quartile',\n",
    "       state, \n",
    "       year, \n",
    "       tempc\n",
    "FROM state_climate;"
   ]
  },
  {
   "cell_type": "code",
   "execution_count": null,
   "id": "50afa7c2-c7bf-40f3-9524-6eba54fe59f8",
   "metadata": {},
   "outputs": [],
   "source": [
    "#NTILE II\n",
    "SELECT NTILE(5) OVER (\n",
    "    ORDER BY tempc \n",
    ") AS 'quartile',\n",
    "       state, \n",
    "       year, \n",
    "       tempc\n",
    "FROM state_climate;"
   ]
  }
 ],
 "metadata": {
  "kernelspec": {
   "display_name": "Python 3 (ipykernel)",
   "language": "python",
   "name": "python3"
  },
  "language_info": {
   "codemirror_mode": {
    "name": "ipython",
    "version": 3
   },
   "file_extension": ".py",
   "mimetype": "text/x-python",
   "name": "python",
   "nbconvert_exporter": "python",
   "pygments_lexer": "ipython3",
   "version": "3.9.12"
  }
 },
 "nbformat": 4,
 "nbformat_minor": 5
}
