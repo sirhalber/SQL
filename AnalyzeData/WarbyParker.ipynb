{
 "cells": [
  {
   "cell_type": "code",
   "execution_count": null,
   "id": "0571d940-b183-472e-b294-b18db0dbec29",
   "metadata": {},
   "outputs": [],
   "source": [
    "SELECT *\n",
    "FROM survey\n",
    "LIMIT 10;\n",
    "\n",
    "SELECT question, COUNT(DISTINCT user_id)\n",
    "FROM survey\n",
    "GROUP BY 1;\n",
    "\n",
    "SELECT *\n",
    "FROM quiz\n",
    "LIMIT 5;\n",
    "\n",
    "SELECT *\n",
    "FROM home_try_on\n",
    "LIMIT 5;\n",
    "\n",
    "SELECT *\n",
    "FROM purchase\n",
    "LIMIT 5;\n",
    "\n",
    "SELECT q.user_id, \n",
    "h.user_id IS NOT NULL AS 'is_home_try_on',\n",
    "h.number_of_pairs,\n",
    "p.user_id IS NOT NULL AS 'is_purchase'\n",
    "FROM quiz q\n",
    "LEFT JOIN home_try_on h \n",
    "ON q.user_id = h.user_id\n",
    "LEFT JOIN purchase p\n",
    "ON p.user_id = q.user_id\n",
    "LIMIT 10;"
   ]
  }
 ],
 "metadata": {
  "kernelspec": {
   "display_name": "Python 3 (ipykernel)",
   "language": "python",
   "name": "python3"
  },
  "language_info": {
   "codemirror_mode": {
    "name": "ipython",
    "version": 3
   },
   "file_extension": ".py",
   "mimetype": "text/x-python",
   "name": "python",
   "nbconvert_exporter": "python",
   "pygments_lexer": "ipython3",
   "version": "3.9.12"
  }
 },
 "nbformat": 4,
 "nbformat_minor": 5
}
