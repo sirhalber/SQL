{
 "cells": [
  {
   "cell_type": "code",
   "execution_count": null,
   "id": "cc8c6ff0-55ab-4996-af76-a1fc597ada00",
   "metadata": {},
   "outputs": [],
   "source": [
    "SELECT *\n",
    "FROM employees;\n",
    "\n",
    "SELECT *\n",
    "FROM projects;\n",
    "\n",
    "SELECT first_name, last_name\n",
    "FROM employees\n",
    "WHERE current_project IS NULL;\n",
    "\n",
    "SELECT project_name \n",
    "FROM projects\n",
    "WHERE project_id NOT IN (\n",
    "   SELECT current_project\n",
    "   FROM employees\n",
    "   WHERE current_project IS NOT NULL);\n",
    "\n",
    "SELECT project_name \n",
    "FROM projects\n",
    "INNER JOIN employees\n",
    "ON projects.project_id = employees.current_project\n",
    "WHERE current_project IS NOT NULL\n",
    "GROUP BY project_name\n",
    "ORDER BY COUNT(employee_id) DESC\n",
    "LIMIT 1;\n",
    "\n",
    "SELECT projects.project_name\n",
    "FROM projects\n",
    "INNER JOIN employees \n",
    "ON projects.project_id = employees.current_project\n",
    "WHERE current_project IS NOT null\n",
    "GROUP BY current_project\n",
    "HAVING COUNT(current_project) > 1;\n",
    "\n",
    "SELECT (COUNT(*) * 2) - (\n",
    "  SELECT COUNT(*)\n",
    "  FROM employees\n",
    "  WHERE current_project IS NOT NULL\n",
    "    AND position = 'Developer') AS 'Count'\n",
    "FROM projects;"
   ]
  }
 ],
 "metadata": {
  "kernelspec": {
   "display_name": "Python 3 (ipykernel)",
   "language": "python",
   "name": "python3"
  },
  "language_info": {
   "codemirror_mode": {
    "name": "ipython",
    "version": 3
   },
   "file_extension": ".py",
   "mimetype": "text/x-python",
   "name": "python",
   "nbconvert_exporter": "python",
   "pygments_lexer": "ipython3",
   "version": "3.9.12"
  }
 },
 "nbformat": 4,
 "nbformat_minor": 5
}
