{
 "cells": [
  {
   "cell_type": "code",
   "execution_count": null,
   "id": "76e154cc-b56c-4e65-a65a-580c9d273316",
   "metadata": {},
   "outputs": [],
   "source": [
    "#Using timestamp\n",
    "WITH last_touch AS (\n",
    "   SELECT user_id,\n",
    "   MAX(timestamp) AS 'last_touch_at'\n",
    "   FROM page_visits\n",
    "   WHERE user_id = 10069\n",
    "   GROUP BY user_id)\n",
    "SELECT lt.user_id,\n",
    "   lt.last_touch_at,\n",
    "   pv.utm_source\n",
    "FROM last_touch AS 'lt'\n",
    "JOIN page_visits AS 'pv'\n",
    "   ON lt.user_id = pv.user_id\n",
    "   AND lt.last_touch_at = pv.timestamp;\n"
   ]
  }
 ],
 "metadata": {
  "kernelspec": {
   "display_name": "Python 3 (ipykernel)",
   "language": "python",
   "name": "python3"
  },
  "language_info": {
   "codemirror_mode": {
    "name": "ipython",
    "version": 3
   },
   "file_extension": ".py",
   "mimetype": "text/x-python",
   "name": "python",
   "nbconvert_exporter": "python",
   "pygments_lexer": "ipython3",
   "version": "3.9.12"
  }
 },
 "nbformat": 4,
 "nbformat_minor": 5
}
